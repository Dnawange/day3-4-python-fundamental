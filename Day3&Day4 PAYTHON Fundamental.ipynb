{
 "cells": [
  {
   "cell_type": "code",
   "execution_count": 20,
   "id": "72d6decf",
   "metadata": {},
   "outputs": [],
   "source": [
    "name=\"rahul\""
   ]
  },
  {
   "cell_type": "code",
   "execution_count": 21,
   "id": "63205ab7",
   "metadata": {},
   "outputs": [
    {
     "name": "stdout",
     "output_type": "stream",
     "text": [
      "rahul\n"
     ]
    }
   ],
   "source": [
    "print(name)"
   ]
  },
  {
   "cell_type": "code",
   "execution_count": 22,
   "id": "c3cdc89d",
   "metadata": {},
   "outputs": [
    {
     "name": "stdout",
     "output_type": "stream",
     "text": [
      "Rahul\n"
     ]
    }
   ],
   "source": [
    "print(name.title())"
   ]
  },
  {
   "cell_type": "code",
   "execution_count": 33,
   "id": "dfcaa77c",
   "metadata": {},
   "outputs": [],
   "source": [
    "firstname='devesh'\n",
    "lastname=\"nawange\""
   ]
  },
  {
   "cell_type": "code",
   "execution_count": 53,
   "id": "f14f3ee9",
   "metadata": {},
   "outputs": [],
   "source": [
    "fullname = f\"{firstname} {lastname}\""
   ]
  },
  {
   "cell_type": "code",
   "execution_count": 45,
   "id": "c68a4fb2",
   "metadata": {},
   "outputs": [
    {
     "name": "stdout",
     "output_type": "stream",
     "text": [
      "devesh nawange\n"
     ]
    }
   ],
   "source": [
    "print(fullname)"
   ]
  },
  {
   "cell_type": "code",
   "execution_count": 46,
   "id": "89ad51ae",
   "metadata": {},
   "outputs": [
    {
     "name": "stdout",
     "output_type": "stream",
     "text": [
      "Devesh Nawange\n"
     ]
    }
   ],
   "source": [
    "print (fullname.title())"
   ]
  },
  {
   "cell_type": "code",
   "execution_count": 50,
   "id": "45eea5cb",
   "metadata": {},
   "outputs": [
    {
     "name": "stdout",
     "output_type": "stream",
     "text": [
      "i love my india,devesh nawange\n"
     ]
    }
   ],
   "source": [
    "massage=f\"i love my india,{fullname}\"\n",
    "\n",
    "print(massage)"
   ]
  },
  {
   "cell_type": "code",
   "execution_count": 56,
   "id": "209a3023",
   "metadata": {},
   "outputs": [
    {
     "name": "stdout",
     "output_type": "stream",
     "text": [
      "rahul devesh pravesh hitesh ashish\n"
     ]
    }
   ],
   "source": [
    "print(\"rahul\",\"devesh\",'pravesh','hitesh','ashish')"
   ]
  },
  {
   "cell_type": "code",
   "execution_count": 65,
   "id": "fc24c234",
   "metadata": {},
   "outputs": [
    {
     "name": "stdout",
     "output_type": "stream",
     "text": [
      "DEVESH NAWANGE\n"
     ]
    }
   ],
   "source": [
    "print(fullname.upper())"
   ]
  },
  {
   "cell_type": "code",
   "execution_count": 66,
   "id": "ebe142b9",
   "metadata": {},
   "outputs": [
    {
     "name": "stdout",
     "output_type": "stream",
     "text": [
      "devesh nawange\n"
     ]
    }
   ],
   "source": [
    "print(fullname.lower()\n",
    "    )"
   ]
  },
  {
   "cell_type": "code",
   "execution_count": null,
   "id": "493116d8",
   "metadata": {},
   "outputs": [],
   "source": [
    "# f function"
   ]
  },
  {
   "cell_type": "code",
   "execution_count": 93,
   "id": "6000e607",
   "metadata": {},
   "outputs": [
    {
     "name": "stdout",
     "output_type": "stream",
     "text": [
      "rahulhiteshpravesh,devesh nawange\n"
     ]
    }
   ],
   "source": [
    "clas=f\"rahulhiteshpravesh,{fullname.lower()}\"\n",
    "\n",
    "print(clas)"
   ]
  },
  {
   "cell_type": "code",
   "execution_count": 87,
   "id": "443f3479",
   "metadata": {},
   "outputs": [
    {
     "name": "stdout",
     "output_type": "stream",
     "text": [
      "rahulhiteshpravesh,devesh nawange\n"
     ]
    }
   ],
   "source": [
    "massage=f\"rahulhiteshpravesh,{fullname}\"\n",
    "\n",
    "print(massage)"
   ]
  },
  {
   "cell_type": "code",
   "execution_count": 95,
   "id": "a85c8fec",
   "metadata": {},
   "outputs": [
    {
     "name": "stdout",
     "output_type": "stream",
     "text": [
      "rahul hitesh devesh pravesh naveen\n"
     ]
    }
   ],
   "source": [
    "print('rahul'hitesh','devesh','pravesh','naveen')"
   ]
  },
  {
   "cell_type": "code",
   "execution_count": 99,
   "id": "c8af8bb5",
   "metadata": {},
   "outputs": [
    {
     "name": "stdout",
     "output_type": "stream",
     "text": [
      "\n",
      "trahul \n",
      "hitesh \n",
      "devesh \n",
      "pravesh \n",
      "naveen\n"
     ]
    }
   ],
   "source": [
    "print('\\nrahul','\\nhitesh','\\ndevesh','\\npravesh','\\nnaveen')"
   ]
  },
  {
   "cell_type": "code",
   "execution_count": 120,
   "id": "709eae16",
   "metadata": {},
   "outputs": [
    {
     "name": "stdout",
     "output_type": "stream",
     "text": [
      "rahul\n",
      " hitesh\n",
      " devesh\n",
      " pravesh\n",
      " naveen\n"
     ]
    }
   ],
   "source": [
    "print((\"rahul\\n hitesh\\n devesh\\n pravesh\\n naveen\").strip())"
   ]
  },
  {
   "cell_type": "code",
   "execution_count": 109,
   "id": "62c20f52",
   "metadata": {},
   "outputs": [],
   "source": [
    "name=\"   rahul\"  "
   ]
  },
  {
   "cell_type": "code",
   "execution_count": 126,
   "id": "d6741183",
   "metadata": {},
   "outputs": [
    {
     "name": "stdout",
     "output_type": "stream",
     "text": [
      "rahul\n"
     ]
    }
   ],
   "source": [
    "print(name.lstrip())"
   ]
  },
  {
   "cell_type": "code",
   "execution_count": 127,
   "id": "692d2045",
   "metadata": {},
   "outputs": [
    {
     "name": "stdout",
     "output_type": "stream",
     "text": [
      "parvesh\n"
     ]
    }
   ],
   "source": [
    "name2=\"parvesh    \"\n",
    "print(name2.rstrip())"
   ]
  },
  {
   "cell_type": "code",
   "execution_count": 128,
   "id": "f4d41d76",
   "metadata": {},
   "outputs": [],
   "source": [
    "   #day4   "
   ]
  },
  {
   "cell_type": "code",
   "execution_count": 135,
   "id": "5e576440",
   "metadata": {},
   "outputs": [
    {
     "name": "stdout",
     "output_type": "stream",
     "text": [
      "['rahul', 'hitesh', 'devesh', 'pravesh', 'naveen']\n"
     ]
    }
   ],
   "source": [
    "student=['rahul','hitesh','devesh','pravesh','naveen']\n",
    "print(student)"
   ]
  },
  {
   "cell_type": "code",
   "execution_count": 142,
   "id": "5ded214f",
   "metadata": {},
   "outputs": [
    {
     "name": "stdout",
     "output_type": "stream",
     "text": [
      "['rahul', 'hitesh', 'devesh', 'pravesh', 'naveen', 'pankaj', 'pankaj', 'pankaj', 'raj', 'raj']\n"
     ]
    }
   ],
   "source": [
    "student.append(\"raj\")\n",
    "print(student)"
   ]
  },
  {
   "cell_type": "code",
   "execution_count": 144,
   "id": "08bb38dd",
   "metadata": {},
   "outputs": [],
   "source": [
    "del student[5]"
   ]
  },
  {
   "cell_type": "code",
   "execution_count": 145,
   "id": "c2999012",
   "metadata": {},
   "outputs": [
    {
     "name": "stdout",
     "output_type": "stream",
     "text": [
      "['rahul', 'hitesh', 'devesh', 'pravesh', 'naveen', 'pankaj', 'raj', 'raj']\n"
     ]
    }
   ],
   "source": [
    "print(student)"
   ]
  },
  {
   "cell_type": "code",
   "execution_count": 146,
   "id": "40c12e7c",
   "metadata": {},
   "outputs": [],
   "source": [
    "del student[7]"
   ]
  },
  {
   "cell_type": "code",
   "execution_count": 147,
   "id": "e541b4c8",
   "metadata": {},
   "outputs": [
    {
     "name": "stdout",
     "output_type": "stream",
     "text": [
      "['rahul', 'hitesh', 'devesh', 'pravesh', 'naveen', 'pankaj', 'raj']\n"
     ]
    }
   ],
   "source": [
    "print(student)"
   ]
  },
  {
   "cell_type": "code",
   "execution_count": 150,
   "id": "51a35e9e",
   "metadata": {},
   "outputs": [
    {
     "name": "stdout",
     "output_type": "stream",
     "text": [
      "hitesh\n"
     ]
    }
   ],
   "source": [
    "print(student[1])"
   ]
  },
  {
   "cell_type": "code",
   "execution_count": 153,
   "id": "6ab336db",
   "metadata": {},
   "outputs": [
    {
     "name": "stdout",
     "output_type": "stream",
     "text": [
      "['rahul', 'rushali', 'rushali', 'hitesh', 'devesh', 'pravesh', 'naveen', 'pankaj', 'raj']\n"
     ]
    }
   ],
   "source": [
    "student.insert(1,\"rushali\")\n",
    "\n",
    "print(student)"
   ]
  },
  {
   "cell_type": "code",
   "execution_count": 154,
   "id": "2f1e81c5",
   "metadata": {},
   "outputs": [
    {
     "name": "stdout",
     "output_type": "stream",
     "text": [
      "['rahul', 'rushali', 'hitesh', 'devesh', 'pravesh', 'naveen', 'pankaj', 'raj']\n"
     ]
    }
   ],
   "source": [
    "del student[1]\n",
    "\n",
    "print(student)"
   ]
  },
  {
   "cell_type": "code",
   "execution_count": 156,
   "id": "b3019a8a",
   "metadata": {},
   "outputs": [
    {
     "name": "stdout",
     "output_type": "stream",
     "text": [
      "['rahul', 'rushali', 'hitesh', 'rajesh', 'pravesh', 'naveen', 'pankaj', 'raj']\n"
     ]
    }
   ],
   "source": [
    "student[3]=\"rajesh\"\n",
    "\n",
    "print(student)"
   ]
  },
  {
   "cell_type": "code",
   "execution_count": 157,
   "id": "ac7603db",
   "metadata": {},
   "outputs": [
    {
     "name": "stdout",
     "output_type": "stream",
     "text": [
      "rushali\n"
     ]
    }
   ],
   "source": [
    "print(student[1])"
   ]
  },
  {
   "cell_type": "code",
   "execution_count": null,
   "id": "0e19e786",
   "metadata": {},
   "outputs": [],
   "source": []
  },
  {
   "cell_type": "code",
   "execution_count": null,
   "id": "de7f721e",
   "metadata": {},
   "outputs": [],
   "source": []
  }
 ],
 "metadata": {
  "kernelspec": {
   "display_name": "Python 3",
   "language": "python",
   "name": "python3"
  },
  "language_info": {
   "codemirror_mode": {
    "name": "ipython",
    "version": 3
   },
   "file_extension": ".py",
   "mimetype": "text/x-python",
   "name": "python",
   "nbconvert_exporter": "python",
   "pygments_lexer": "ipython3",
   "version": "3.8.8"
  }
 },
 "nbformat": 4,
 "nbformat_minor": 5
}
